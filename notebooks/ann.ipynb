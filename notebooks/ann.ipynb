{
 "cells": [
  {
   "cell_type": "code",
   "execution_count": 26,
   "metadata": {},
   "outputs": [
    {
     "name": "stdout",
     "output_type": "stream",
     "text": [
      "The autoreload extension is already loaded. To reload it, use:\n",
      "  %reload_ext autoreload\n"
     ]
    }
   ],
   "source": [
    "%load_ext autoreload\n",
    "%autoreload 2"
   ]
  },
  {
   "cell_type": "code",
   "execution_count": 27,
   "metadata": {},
   "outputs": [],
   "source": [
    "import torch\n",
    "import pandas as pd\n",
    "from src.models.ann import Ann\n",
    "from src.models.autoencoder import Autoencoder\n",
    "from src.models.utils import *\n",
    "from src.data.dataset import CustomDataset\n",
    "from src.data.utils import collate_batch, get_vocab\n",
    "from torch.nn import CrossEntropyLoss\n",
    "from torch.utils.data import DataLoader\n",
    "from torchtext.data.utils import get_tokenizer"
   ]
  },
  {
   "attachments": {},
   "cell_type": "markdown",
   "metadata": {},
   "source": [
    "### 1. Data"
   ]
  },
  {
   "cell_type": "code",
   "execution_count": 28,
   "metadata": {},
   "outputs": [],
   "source": [
    "df_train = pd.read_csv(\"../data/processed/train.csv\")\n",
    "df_val = pd.read_csv(\"../data/processed/val.csv\")\n",
    "df_test = pd.read_csv(\"../data/processed/test.csv\")"
   ]
  },
  {
   "cell_type": "code",
   "execution_count": 29,
   "metadata": {},
   "outputs": [
    {
     "data": {
      "text/plain": [
       "Autoencoder(\n",
       "  (embedding): EmbeddingBag(196674, 128, mode=mean)\n",
       "  (encoder): Sequential(\n",
       "    (0): Linear(in_features=128, out_features=32, bias=True)\n",
       "    (1): ReLU()\n",
       "    (2): Linear(in_features=32, out_features=16, bias=True)\n",
       "    (3): ReLU()\n",
       "  )\n",
       "  (decoder): Sequential(\n",
       "    (0): Linear(in_features=16, out_features=32, bias=True)\n",
       "    (1): ReLU()\n",
       "    (2): Linear(in_features=32, out_features=128, bias=True)\n",
       "    (3): ReLU()\n",
       "  )\n",
       ")"
      ]
     },
     "execution_count": 29,
     "metadata": {},
     "output_type": "execute_result"
    }
   ],
   "source": [
    "vocab_size = 196674\n",
    "embed_dim = 128\n",
    "autoencoder = Autoencoder(vocab_size, embed_dim)\n",
    "autoencoder.load_state_dict(torch.load(\"../data/models/autoencoder.pt\"))\n",
    "autoencoder.eval()"
   ]
  },
  {
   "attachments": {},
   "cell_type": "markdown",
   "metadata": {},
   "source": [
    "### 2. Dataset"
   ]
  },
  {
   "cell_type": "code",
   "execution_count": 30,
   "metadata": {},
   "outputs": [],
   "source": [
    "tokenizer = get_tokenizer('spacy', language='en_core_web_sm')"
   ]
  },
  {
   "cell_type": "code",
   "execution_count": 31,
   "metadata": {},
   "outputs": [],
   "source": [
    "train_dataset = CustomDataset(\n",
    "    df_train[\"text\"].values.tolist(), df_train[\"toxic\"].values.tolist(), tokenizer\n",
    ")\n",
    "val_dataset = CustomDataset(\n",
    "    df_val[\"text\"].values.tolist(), df_val[\"toxic\"].values.tolist(), tokenizer\n",
    ")\n",
    "test_dataset = CustomDataset(\n",
    "    df_test[\"text\"].values.tolist(), df_test[\"toxic\"].values.tolist(), tokenizer\n",
    ")"
   ]
  },
  {
   "attachments": {},
   "cell_type": "markdown",
   "metadata": {},
   "source": [
    "### 3. Vocabulary"
   ]
  },
  {
   "cell_type": "code",
   "execution_count": 32,
   "metadata": {},
   "outputs": [],
   "source": [
    "#vocab = get_vocab(train_dataset, tokenizer)\n",
    "vocab = torch.load(\"../data/vocab.pt\")"
   ]
  },
  {
   "attachments": {},
   "cell_type": "markdown",
   "metadata": {},
   "source": [
    "### 4. Training"
   ]
  },
  {
   "cell_type": "code",
   "execution_count": 33,
   "metadata": {},
   "outputs": [
    {
     "name": "stdout",
     "output_type": "stream",
     "text": [
      "| epoch   1 |  1000/ 5589 batches | accuracy    0.754\n",
      "| epoch   1 |  2000/ 5589 batches | accuracy    0.853\n",
      "| epoch   1 |  3000/ 5589 batches | accuracy    0.876\n",
      "| epoch   1 |  4000/ 5589 batches | accuracy    0.886\n",
      "| epoch   1 |  5000/ 5589 batches | accuracy    0.896\n",
      "-----------------------------------------------------------\n",
      "| end of epoch   1 | time: 20.10s | valid accuracy    0.886 \n",
      "-----------------------------------------------------------\n",
      "| epoch   2 |  1000/ 5589 batches | accuracy    0.902\n",
      "| epoch   2 |  2000/ 5589 batches | accuracy    0.906\n",
      "| epoch   2 |  3000/ 5589 batches | accuracy    0.908\n",
      "| epoch   2 |  4000/ 5589 batches | accuracy    0.907\n",
      "| epoch   2 |  5000/ 5589 batches | accuracy    0.911\n",
      "-----------------------------------------------------------\n",
      "| end of epoch   2 | time: 19.06s | valid accuracy    0.857 \n",
      "-----------------------------------------------------------\n",
      "| epoch   3 |  1000/ 5589 batches | accuracy    0.933\n",
      "| epoch   3 |  2000/ 5589 batches | accuracy    0.936\n",
      "| epoch   3 |  3000/ 5589 batches | accuracy    0.940\n",
      "| epoch   3 |  4000/ 5589 batches | accuracy    0.940\n",
      "| epoch   3 |  5000/ 5589 batches | accuracy    0.944\n",
      "-----------------------------------------------------------\n",
      "| end of epoch   3 | time: 18.40s | valid accuracy    0.889 \n",
      "-----------------------------------------------------------\n",
      "| epoch   4 |  1000/ 5589 batches | accuracy    0.947\n",
      "| epoch   4 |  2000/ 5589 batches | accuracy    0.940\n",
      "| epoch   4 |  3000/ 5589 batches | accuracy    0.944\n",
      "| epoch   4 |  4000/ 5589 batches | accuracy    0.941\n",
      "| epoch   4 |  5000/ 5589 batches | accuracy    0.944\n",
      "-----------------------------------------------------------\n",
      "| end of epoch   4 | time: 17.18s | valid accuracy    0.879 \n",
      "-----------------------------------------------------------\n",
      "| epoch   5 |  1000/ 5589 batches | accuracy    0.946\n",
      "| epoch   5 |  2000/ 5589 batches | accuracy    0.946\n",
      "| epoch   5 |  3000/ 5589 batches | accuracy    0.948\n",
      "| epoch   5 |  4000/ 5589 batches | accuracy    0.946\n",
      "| epoch   5 |  5000/ 5589 batches | accuracy    0.947\n",
      "-----------------------------------------------------------\n",
      "| end of epoch   5 | time: 16.61s | valid accuracy    0.882 \n",
      "-----------------------------------------------------------\n",
      "| epoch   6 |  1000/ 5589 batches | accuracy    0.952\n",
      "| epoch   6 |  2000/ 5589 batches | accuracy    0.950\n",
      "| epoch   6 |  3000/ 5589 batches | accuracy    0.951\n",
      "| epoch   6 |  4000/ 5589 batches | accuracy    0.950\n",
      "| epoch   6 |  5000/ 5589 batches | accuracy    0.953\n",
      "-----------------------------------------------------------\n",
      "| end of epoch   6 | time: 16.48s | valid accuracy    0.880 \n",
      "-----------------------------------------------------------\n",
      "| epoch   7 |  1000/ 5589 batches | accuracy    0.950\n",
      "| epoch   7 |  2000/ 5589 batches | accuracy    0.952\n",
      "| epoch   7 |  3000/ 5589 batches | accuracy    0.951\n",
      "| epoch   7 |  4000/ 5589 batches | accuracy    0.952\n",
      "| epoch   7 |  5000/ 5589 batches | accuracy    0.953\n",
      "-----------------------------------------------------------\n",
      "| end of epoch   7 | time: 16.36s | valid accuracy    0.886 \n",
      "-----------------------------------------------------------\n",
      "| epoch   8 |  1000/ 5589 batches | accuracy    0.952\n",
      "| epoch   8 |  2000/ 5589 batches | accuracy    0.950\n",
      "| epoch   8 |  3000/ 5589 batches | accuracy    0.951\n",
      "| epoch   8 |  4000/ 5589 batches | accuracy    0.953\n",
      "| epoch   8 |  5000/ 5589 batches | accuracy    0.952\n",
      "-----------------------------------------------------------\n",
      "| end of epoch   8 | time: 16.31s | valid accuracy    0.887 \n",
      "-----------------------------------------------------------\n",
      "| epoch   9 |  1000/ 5589 batches | accuracy    0.953\n",
      "| epoch   9 |  2000/ 5589 batches | accuracy    0.951\n",
      "| epoch   9 |  3000/ 5589 batches | accuracy    0.951\n",
      "| epoch   9 |  4000/ 5589 batches | accuracy    0.951\n",
      "| epoch   9 |  5000/ 5589 batches | accuracy    0.952\n",
      "-----------------------------------------------------------\n",
      "| end of epoch   9 | time: 16.38s | valid accuracy    0.881 \n",
      "-----------------------------------------------------------\n",
      "| epoch  10 |  1000/ 5589 batches | accuracy    0.950\n",
      "| epoch  10 |  2000/ 5589 batches | accuracy    0.951\n",
      "| epoch  10 |  3000/ 5589 batches | accuracy    0.952\n",
      "| epoch  10 |  4000/ 5589 batches | accuracy    0.953\n",
      "| epoch  10 |  5000/ 5589 batches | accuracy    0.950\n",
      "-----------------------------------------------------------\n",
      "| end of epoch  10 | time: 17.99s | valid accuracy    0.884 \n",
      "-----------------------------------------------------------\n"
     ]
    }
   ],
   "source": [
    "num_class = 2\n",
    "vocab_size = len(vocab)\n",
    "model = Ann(vocab_size,embed_dim,num_class,autoencoder.encoder)\n",
    "\n",
    "train_sampler = train_dataset.get_sampler()\n",
    "train_dataloader = DataLoader(train_dataset, batch_size=32, collate_fn=lambda x: collate_batch(batch=x, vocab=vocab, tokenizer=tokenizer), sampler=train_sampler)\n",
    "\n",
    "val_sampler = val_dataset.get_sampler()\n",
    "val_dataloader = DataLoader(val_dataset, batch_size=32, collate_fn=lambda x: collate_batch(batch=x, vocab=vocab, tokenizer=tokenizer), sampler=val_sampler)\n",
    "\n",
    "test_dataloader = DataLoader(test_dataset, batch_size=32, collate_fn=lambda x: collate_batch(batch=x, vocab=vocab, tokenizer=tokenizer))\n",
    "\n",
    "train_classifier(model, train_dataloader, val_dataloader)"
   ]
  },
  {
   "attachments": {},
   "cell_type": "markdown",
   "metadata": {},
   "source": [
    "### 5. Evaluation"
   ]
  },
  {
   "cell_type": "code",
   "execution_count": 17,
   "metadata": {},
   "outputs": [
    {
     "name": "stdout",
     "output_type": "stream",
     "text": [
      "Checking the results of test dataset.\n",
      "test accuracy    0.916\n"
     ]
    }
   ],
   "source": [
    "print('Checking the results of test dataset.')\n",
    "accu_test = evaluate_classifier(model, test_dataloader, CrossEntropyLoss())\n",
    "print('test accuracy {:8.3f}'.format(accu_test))"
   ]
  }
 ],
 "metadata": {
  "kernelspec": {
   "display_name": ".venv",
   "language": "python",
   "name": "python3"
  },
  "language_info": {
   "codemirror_mode": {
    "name": "ipython",
    "version": 3
   },
   "file_extension": ".py",
   "mimetype": "text/x-python",
   "name": "python",
   "nbconvert_exporter": "python",
   "pygments_lexer": "ipython3",
   "version": "3.10.7 (main, Sep 14 2022, 22:38:23) [Clang 14.0.0 (clang-1400.0.29.102)]"
  },
  "orig_nbformat": 4,
  "vscode": {
   "interpreter": {
    "hash": "e79d364cbb5ff81f54abd98f9f83d50f90d379b8661ccc369e0ce6b6f261137f"
   }
  }
 },
 "nbformat": 4,
 "nbformat_minor": 2
}
