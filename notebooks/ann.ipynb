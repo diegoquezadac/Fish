{
 "cells": [
  {
   "cell_type": "code",
   "execution_count": 1,
   "metadata": {},
   "outputs": [],
   "source": [
    "%load_ext autoreload\n",
    "%autoreload 2"
   ]
  },
  {
   "cell_type": "code",
   "execution_count": 2,
   "metadata": {},
   "outputs": [],
   "source": [
    "import torch\n",
    "import pandas as pd\n",
    "from functools import partial\n",
    "from src.models.ann import Ann\n",
    "from src.models.autoencoder import Autoencoder\n",
    "from src.models.utils import *\n",
    "from src.data.utils import collate_batch\n",
    "from src.data.load import load_data\n",
    "from torch.nn import CrossEntropyLoss\n",
    "from torch.utils.data import DataLoader\n",
    "from torchtext.data.utils import get_tokenizer"
   ]
  },
  {
   "attachments": {},
   "cell_type": "markdown",
   "metadata": {},
   "source": [
    "### 1. Data"
   ]
  },
  {
   "cell_type": "code",
   "execution_count": null,
   "metadata": {},
   "outputs": [],
   "source": [
    "# Hyperparameters\n",
    "batch_size = 64\n",
    "EPOCHS = 10"
   ]
  },
  {
   "cell_type": "code",
   "execution_count": 4,
   "metadata": {},
   "outputs": [
    {
     "data": {
      "text/plain": [
       "Autoencoder(\n",
       "  (embedding): EmbeddingBag(196674, 128, mode=mean)\n",
       "  (encoder): Sequential(\n",
       "    (0): Linear(in_features=128, out_features=32, bias=True)\n",
       "    (1): ReLU()\n",
       "    (2): Linear(in_features=32, out_features=16, bias=True)\n",
       "    (3): ReLU()\n",
       "  )\n",
       "  (decoder): Sequential(\n",
       "    (0): Linear(in_features=16, out_features=32, bias=True)\n",
       "    (1): ReLU()\n",
       "    (2): Linear(in_features=32, out_features=128, bias=True)\n",
       "    (3): ReLU()\n",
       "  )\n",
       ")"
      ]
     },
     "execution_count": 4,
     "metadata": {},
     "output_type": "execute_result"
    }
   ],
   "source": [
    "train_dataset, val_dataset, test_dataset = load_data(\"../data/processed/\")\n",
    "tokenizer = get_tokenizer('spacy', language='en_core_web_sm')\n",
    "vocab = torch.load(\"../data/vocab.pt\")\n",
    "vocab_size = len(vocab)\n",
    "embed_dim = 128 # NOT AN OPTIMIZATION PARAMETER\n",
    "\n",
    "train_dataloader = DataLoader(\n",
    "    train_dataset,\n",
    "    batch_size=batch_size,\n",
    "    collate_fn=partial(collate_batch, vocab=vocab, tokenizer=tokenizer),\n",
    "    sampler=train_dataset.get_sampler(),\n",
    ")\n",
    "\n",
    "val_dataloader = DataLoader(\n",
    "    val_dataset,\n",
    "    batch_size=batch_size,\n",
    "    collate_fn=partial(collate_batch, vocab=vocab, tokenizer=tokenizer),\n",
    "    sampler=val_dataset.get_sampler(),\n",
    ")\n",
    "\n",
    "test_dataloader = DataLoader(\n",
    "    test_dataset,\n",
    "    batch_size=batch_size,\n",
    "    collate_fn=partial(collate_batch, vocab=vocab, tokenizer=tokenizer),\n",
    ")\n",
    "\n",
    "autoencoder = Autoencoder(vocab_size, embed_dim)\n",
    "autoencoder.load_state_dict(torch.load(\"../data/models/autoencoder.pt\"))\n",
    "autoencoder.eval()"
   ]
  },
  {
   "attachments": {},
   "cell_type": "markdown",
   "metadata": {},
   "source": [
    "### 2. Training"
   ]
  },
  {
   "cell_type": "code",
   "execution_count": 5,
   "metadata": {},
   "outputs": [
    {
     "name": "stdout",
     "output_type": "stream",
     "text": [
      "| epoch   1 |  1000/ 2795 batches | accuracy    0.814\n",
      "| epoch   1 |  2000/ 2795 batches | accuracy    0.881\n",
      "-----------------------------------------------------------\n",
      "| end of epoch   1 | time:  5.62s | valid accuracy    0.878 \n",
      "-----------------------------------------------------------\n",
      "| epoch   2 |  1000/ 2795 batches | accuracy    0.907\n",
      "| epoch   2 |  2000/ 2795 batches | accuracy    0.915\n",
      "-----------------------------------------------------------\n",
      "| end of epoch   2 | time:  5.48s | valid accuracy    0.894 \n",
      "-----------------------------------------------------------\n",
      "| epoch   3 |  1000/ 2795 batches | accuracy    0.923\n",
      "| epoch   3 |  2000/ 2795 batches | accuracy    0.927\n",
      "-----------------------------------------------------------\n",
      "| end of epoch   3 | time:  5.54s | valid accuracy    0.884 \n",
      "-----------------------------------------------------------\n",
      "| epoch   4 |  1000/ 2795 batches | accuracy    0.952\n",
      "| epoch   4 |  2000/ 2795 batches | accuracy    0.957\n",
      "-----------------------------------------------------------\n",
      "| end of epoch   4 | time:  5.19s | valid accuracy    0.895 \n",
      "-----------------------------------------------------------\n",
      "| epoch   5 |  1000/ 2795 batches | accuracy    0.962\n",
      "| epoch   5 |  2000/ 2795 batches | accuracy    0.964\n",
      "-----------------------------------------------------------\n",
      "| end of epoch   5 | time:  5.12s | valid accuracy    0.891 \n",
      "-----------------------------------------------------------\n",
      "| epoch   6 |  1000/ 2795 batches | accuracy    0.968\n",
      "| epoch   6 |  2000/ 2795 batches | accuracy    0.969\n",
      "-----------------------------------------------------------\n",
      "| end of epoch   6 | time:  5.07s | valid accuracy    0.885 \n",
      "-----------------------------------------------------------\n",
      "| epoch   7 |  1000/ 2795 batches | accuracy    0.970\n",
      "| epoch   7 |  2000/ 2795 batches | accuracy    0.970\n",
      "-----------------------------------------------------------\n",
      "| end of epoch   7 | time:  5.03s | valid accuracy    0.888 \n",
      "-----------------------------------------------------------\n",
      "| epoch   8 |  1000/ 2795 batches | accuracy    0.970\n",
      "| epoch   8 |  2000/ 2795 batches | accuracy    0.970\n",
      "-----------------------------------------------------------\n",
      "| end of epoch   8 | time:  5.05s | valid accuracy    0.881 \n",
      "-----------------------------------------------------------\n",
      "| epoch   9 |  1000/ 2795 batches | accuracy    0.971\n",
      "| epoch   9 |  2000/ 2795 batches | accuracy    0.970\n",
      "-----------------------------------------------------------\n",
      "| end of epoch   9 | time:  5.09s | valid accuracy    0.884 \n",
      "-----------------------------------------------------------\n",
      "| epoch  10 |  1000/ 2795 batches | accuracy    0.971\n",
      "| epoch  10 |  2000/ 2795 batches | accuracy    0.970\n",
      "-----------------------------------------------------------\n",
      "| end of epoch  10 | time:  5.07s | valid accuracy    0.888 \n",
      "-----------------------------------------------------------\n"
     ]
    }
   ],
   "source": [
    "model = Ann(vocab_size,embed_dim,2,autoencoder.encoder)\n",
    "\n",
    "train_classifier(model, train_dataloader, val_dataloader, epochs=EPOCHS)"
   ]
  },
  {
   "attachments": {},
   "cell_type": "markdown",
   "metadata": {},
   "source": [
    "### 3. Evaluation"
   ]
  },
  {
   "cell_type": "code",
   "execution_count": 10,
   "metadata": {},
   "outputs": [
    {
     "name": "stdout",
     "output_type": "stream",
     "text": [
      "Checking the results of test dataset.\n",
      "test accuracy    0.909\n"
     ]
    }
   ],
   "source": [
    "print('Checking the results of test dataset.')\n",
    "accu_test = evaluate_classifier(model, test_dataloader, CrossEntropyLoss())\n",
    "print('test accuracy {:8.3f}'.format(accu_test))"
   ]
  }
 ],
 "metadata": {
  "kernelspec": {
   "display_name": ".venv",
   "language": "python",
   "name": "python3"
  },
  "language_info": {
   "codemirror_mode": {
    "name": "ipython",
    "version": 3
   },
   "file_extension": ".py",
   "mimetype": "text/x-python",
   "name": "python",
   "nbconvert_exporter": "python",
   "pygments_lexer": "ipython3",
   "version": "3.10.7"
  },
  "orig_nbformat": 4,
  "vscode": {
   "interpreter": {
    "hash": "e79d364cbb5ff81f54abd98f9f83d50f90d379b8661ccc369e0ce6b6f261137f"
   }
  }
 },
 "nbformat": 4,
 "nbformat_minor": 2
}
