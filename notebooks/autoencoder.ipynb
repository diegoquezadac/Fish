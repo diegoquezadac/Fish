{
 "cells": [
  {
   "cell_type": "code",
   "execution_count": 5,
   "metadata": {},
   "outputs": [
    {
     "name": "stdout",
     "output_type": "stream",
     "text": [
      "The autoreload extension is already loaded. To reload it, use:\n",
      "  %reload_ext autoreload\n"
     ]
    }
   ],
   "source": [
    "%load_ext autoreload\n",
    "%autoreload 2"
   ]
  },
  {
   "cell_type": "code",
   "execution_count": 6,
   "metadata": {},
   "outputs": [],
   "source": [
    "import torch\n",
    "import pandas as pd\n",
    "from functools import partial\n",
    "from src.models.autoencoder import Autoencoder\n",
    "from src.data.utils import collate_batch\n",
    "from src.data.load import load_data\n",
    "from src.models.utils import *\n",
    "from torch.nn import CrossEntropyLoss\n",
    "from torch.utils.data import DataLoader\n",
    "from torchtext.data.utils import get_tokenizer"
   ]
  },
  {
   "attachments": {},
   "cell_type": "markdown",
   "metadata": {},
   "source": [
    "### 1. Data"
   ]
  },
  {
   "cell_type": "code",
   "execution_count": null,
   "metadata": {},
   "outputs": [],
   "source": [
    "# Hyperparameters\n",
    "embed_dim = 256\n",
    "batch_size = 64\n",
    "EPOCHS = 10"
   ]
  },
  {
   "cell_type": "code",
   "execution_count": 7,
   "metadata": {},
   "outputs": [],
   "source": [
    "train_dataset, val_dataset, test_dataset = load_data(\"../data/processed/\")\n",
    "tokenizer = get_tokenizer(\"spacy\", language=\"en_core_web_sm\")\n",
    "vocab = torch.load(\"../data/vocab.pt\")\n",
    "\n",
    "train_dataloader = DataLoader(\n",
    "    train_dataset,\n",
    "    batch_size=batch_size,\n",
    "    collate_fn=partial(collate_batch, vocab=vocab, tokenizer=tokenizer),\n",
    "    sampler=train_dataset.get_sampler(),\n",
    ")\n",
    "\n",
    "val_dataloader = DataLoader(\n",
    "    val_dataset,\n",
    "    batch_size=batch_size,\n",
    "    collate_fn=partial(collate_batch, vocab=vocab, tokenizer=tokenizer),\n",
    "    sampler=val_dataset.get_sampler(),\n",
    ")\n",
    "\n",
    "test_dataloader = DataLoader(\n",
    "    test_dataset,\n",
    "    batch_size=batch_size,\n",
    "    collate_fn=partial(collate_batch, vocab=vocab, tokenizer=tokenizer),\n",
    ")"
   ]
  },
  {
   "attachments": {},
   "cell_type": "markdown",
   "metadata": {},
   "source": [
    "### 2. Training"
   ]
  },
  {
   "cell_type": "code",
   "execution_count": 9,
   "metadata": {},
   "outputs": [
    {
     "name": "stdout",
     "output_type": "stream",
     "text": [
      "| epoch   1 |  1000/ 2795 batches | loss    0.000\n",
      "| epoch   1 |  2000/ 2795 batches | loss    0.000\n",
      "-----------------------------------------------------------\n",
      "| end of epoch   1 | time:  7.57s | valid accuracy    0.000 \n",
      "-----------------------------------------------------------\n",
      "| epoch   2 |  1000/ 2795 batches | loss    0.000\n",
      "| epoch   2 |  2000/ 2795 batches | loss    0.000\n",
      "-----------------------------------------------------------\n",
      "| end of epoch   2 | time:  7.77s | valid accuracy    0.000 \n",
      "-----------------------------------------------------------\n",
      "| epoch   3 |  1000/ 2795 batches | loss    0.000\n",
      "| epoch   3 |  2000/ 2795 batches | loss    0.000\n",
      "-----------------------------------------------------------\n",
      "| end of epoch   3 | time:  7.53s | valid accuracy    0.000 \n",
      "-----------------------------------------------------------\n",
      "| epoch   4 |  1000/ 2795 batches | loss    0.000\n",
      "| epoch   4 |  2000/ 2795 batches | loss    0.000\n",
      "-----------------------------------------------------------\n",
      "| end of epoch   4 | time:  7.59s | valid accuracy    0.000 \n",
      "-----------------------------------------------------------\n",
      "| epoch   5 |  1000/ 2795 batches | loss    0.000\n",
      "| epoch   5 |  2000/ 2795 batches | loss    0.000\n",
      "-----------------------------------------------------------\n",
      "| end of epoch   5 | time:  7.81s | valid accuracy    0.000 \n",
      "-----------------------------------------------------------\n",
      "| epoch   6 |  1000/ 2795 batches | loss    0.000\n",
      "| epoch   6 |  2000/ 2795 batches | loss    0.000\n",
      "-----------------------------------------------------------\n",
      "| end of epoch   6 | time:  7.65s | valid accuracy    0.000 \n",
      "-----------------------------------------------------------\n",
      "| epoch   7 |  1000/ 2795 batches | loss    0.000\n",
      "| epoch   7 |  2000/ 2795 batches | loss    0.000\n",
      "-----------------------------------------------------------\n",
      "| end of epoch   7 | time:  7.28s | valid accuracy    0.000 \n",
      "-----------------------------------------------------------\n",
      "| epoch   8 |  1000/ 2795 batches | loss    0.000\n",
      "| epoch   8 |  2000/ 2795 batches | loss    0.000\n",
      "-----------------------------------------------------------\n",
      "| end of epoch   8 | time:  7.85s | valid accuracy    0.000 \n",
      "-----------------------------------------------------------\n",
      "| epoch   9 |  1000/ 2795 batches | loss    0.000\n",
      "| epoch   9 |  2000/ 2795 batches | loss    0.000\n",
      "-----------------------------------------------------------\n",
      "| end of epoch   9 | time:  7.61s | valid accuracy    0.000 \n",
      "-----------------------------------------------------------\n",
      "| epoch  10 |  1000/ 2795 batches | loss    0.000\n",
      "| epoch  10 |  2000/ 2795 batches | loss    0.000\n",
      "-----------------------------------------------------------\n",
      "| end of epoch  10 | time:  7.47s | valid accuracy    0.000 \n",
      "-----------------------------------------------------------\n"
     ]
    }
   ],
   "source": [
    "model = Autoencoder(len(vocab), embed_dim, epochs=EPOCHS)\n",
    "\n",
    "train_autoencoder(model, train_dataloader, val_dataloader)"
   ]
  },
  {
   "attachments": {},
   "cell_type": "markdown",
   "metadata": {},
   "source": [
    "### 3. Evaluation"
   ]
  },
  {
   "cell_type": "code",
   "execution_count": 5,
   "metadata": {},
   "outputs": [
    {
     "name": "stdout",
     "output_type": "stream",
     "text": [
      "Checking the results of test dataset.\n",
      "test accuracy 0.07424341\n"
     ]
    }
   ],
   "source": [
    "print('Checking the results of test dataset.')\n",
    "accu_test = evaluate_autoencoder(model, test_dataloader, CrossEntropyLoss())\n",
    "print('test accuracy {:8.8f}'.format(accu_test))"
   ]
  },
  {
   "attachments": {},
   "cell_type": "markdown",
   "metadata": {},
   "source": [
    "### 4. Export"
   ]
  },
  {
   "cell_type": "code",
   "execution_count": 6,
   "metadata": {},
   "outputs": [],
   "source": [
    "#torch.save(model.state_dict(), \"./autoencoder.pt\")"
   ]
  }
 ],
 "metadata": {
  "kernelspec": {
   "display_name": "Python 3.10.7 ('.venv': venv)",
   "language": "python",
   "name": "python3"
  },
  "language_info": {
   "codemirror_mode": {
    "name": "ipython",
    "version": 3
   },
   "file_extension": ".py",
   "mimetype": "text/x-python",
   "name": "python",
   "nbconvert_exporter": "python",
   "pygments_lexer": "ipython3",
   "version": "3.10.7"
  },
  "orig_nbformat": 4,
  "vscode": {
   "interpreter": {
    "hash": "e79d364cbb5ff81f54abd98f9f83d50f90d379b8661ccc369e0ce6b6f261137f"
   }
  }
 },
 "nbformat": 4,
 "nbformat_minor": 2
}
