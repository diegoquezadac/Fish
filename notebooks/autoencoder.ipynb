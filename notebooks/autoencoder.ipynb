{
 "cells": [
  {
   "cell_type": "code",
   "execution_count": 1,
   "metadata": {},
   "outputs": [],
   "source": [
    "%load_ext autoreload\n",
    "%autoreload 2"
   ]
  },
  {
   "cell_type": "code",
   "execution_count": 2,
   "metadata": {},
   "outputs": [],
   "source": [
    "import torch\n",
    "import pandas as pd\n",
    "import time\n",
    "from src.models.autoencoder import Autoencoder\n",
    "from src.data.dataset import CustomDataset\n",
    "from src.data.utils import collate_batch, get_vocab\n",
    "from torch import nn\n",
    "from torchmetrics import Precision, Recall, F1Score, Accuracy\n",
    "from torch.utils.data import DataLoader,Dataset, WeightedRandomSampler\n",
    "from torchtext.data.utils import get_tokenizer"
   ]
  },
  {
   "attachments": {},
   "cell_type": "markdown",
   "metadata": {},
   "source": [
    "### 1. Data"
   ]
  },
  {
   "cell_type": "code",
   "execution_count": 3,
   "metadata": {},
   "outputs": [],
   "source": [
    "df_train = pd.read_csv(\"../data/processed/train.csv\")\n",
    "df_val = pd.read_csv(\"../data/processed/val.csv\")\n",
    "df_test = pd.read_csv(\"../data/processed/test.csv\")"
   ]
  },
  {
   "attachments": {},
   "cell_type": "markdown",
   "metadata": {},
   "source": [
    "### 2. Dataset"
   ]
  },
  {
   "cell_type": "code",
   "execution_count": 5,
   "metadata": {},
   "outputs": [],
   "source": [
    "tokenizer = get_tokenizer('spacy', language='en_core_web_sm')"
   ]
  },
  {
   "cell_type": "code",
   "execution_count": 6,
   "metadata": {},
   "outputs": [],
   "source": [
    "train_dataset = CustomDataset(\n",
    "    df_train[\"text\"].values.tolist(), df_train[\"toxic\"].values.tolist(), tokenizer\n",
    ")\n",
    "val_dataset = CustomDataset(\n",
    "    df_val[\"text\"].values.tolist(), df_val[\"toxic\"].values.tolist(), tokenizer\n",
    ")\n",
    "test_dataset = CustomDataset(\n",
    "    df_test[\"text\"].values.tolist(), df_test[\"toxic\"].values.tolist(), tokenizer\n",
    ")"
   ]
  },
  {
   "attachments": {},
   "cell_type": "markdown",
   "metadata": {},
   "source": [
    "### 3. Vocabulary"
   ]
  },
  {
   "cell_type": "code",
   "execution_count": 7,
   "metadata": {},
   "outputs": [],
   "source": [
    "#vocab = get_vocab(train_dataset, tokenizer)\n",
    "vocab = torch.load(\"../data/vocab.pt\")"
   ]
  },
  {
   "attachments": {},
   "cell_type": "markdown",
   "metadata": {},
   "source": [
    "### 4. Training"
   ]
  },
  {
   "cell_type": "code",
   "execution_count": 8,
   "metadata": {},
   "outputs": [],
   "source": [
    "def train(model, dataloader, optimizer, criterion, epoch):\n",
    "    model.train()\n",
    "    total_loss, total_count = 0, 0\n",
    "    log_interval = 1000\n",
    "    start_time = time.time()\n",
    "\n",
    "    for idx, (text, label, offsets) in enumerate(dataloader):\n",
    "        optimizer.zero_grad()\n",
    "        reconstructued = model(text, offsets)\n",
    "        loss = criterion(reconstructued, model.embed(text, offsets))\n",
    "        loss.backward()\n",
    "        torch.nn.utils.clip_grad_norm_(model.parameters(), 0.1)\n",
    "        optimizer.step()\n",
    "        total_loss += loss.item()\n",
    "        total_count += label.size(0)\n",
    "        if idx % log_interval == 0 and idx > 0:\n",
    "            elapsed = time.time() - start_time\n",
    "            print(\n",
    "                \"| epoch {:3d} | {:5d}/{:5d} batches \"\n",
    "                \"| loss {:8.3f}\".format(\n",
    "                    epoch, idx, len(dataloader), total_loss / total_count\n",
    "                )\n",
    "            )\n",
    "            total_acc, total_count = 0, 0\n",
    "            start_time = time.time()\n",
    "    return model\n",
    "\n",
    "\n",
    "def evaluate(model, dataloader, criterion):\n",
    "    model.eval()\n",
    "    total_loss, total_count = 0, 0\n",
    "\n",
    "    with torch.no_grad():\n",
    "        for idx, (text, label, offsets) in enumerate(dataloader):\n",
    "            reconstructued = model(text, offsets)\n",
    "            loss = criterion(reconstructued, model.embed(text, offsets))\n",
    "            total_loss += loss.item()\n",
    "            total_count += label.size(0)\n",
    "    return total_loss / total_count"
   ]
  },
  {
   "cell_type": "code",
   "execution_count": 12,
   "metadata": {},
   "outputs": [
    {
     "name": "stdout",
     "output_type": "stream",
     "text": [
      "| epoch   1 |  1000/ 5589 batches | loss    0.000\n",
      "| epoch   1 |  2000/ 5589 batches | loss    0.000\n",
      "| epoch   1 |  3000/ 5589 batches | loss    0.001\n",
      "| epoch   1 |  4000/ 5589 batches | loss    0.001\n",
      "| epoch   1 |  5000/ 5589 batches | loss    0.001\n",
      "-----------------------------------------------------------\n",
      "| end of epoch   1 | time: 22.55s | valid accuracy    0.000 \n",
      "-----------------------------------------------------------\n",
      "| epoch   2 |  1000/ 5589 batches | loss    0.000\n",
      "| epoch   2 |  2000/ 5589 batches | loss    0.000\n",
      "| epoch   2 |  3000/ 5589 batches | loss    0.000\n",
      "| epoch   2 |  4000/ 5589 batches | loss    0.001\n",
      "| epoch   2 |  5000/ 5589 batches | loss    0.001\n",
      "-----------------------------------------------------------\n",
      "| end of epoch   2 | time: 20.27s | valid accuracy    0.000 \n",
      "-----------------------------------------------------------\n",
      "| epoch   3 |  1000/ 5589 batches | loss    0.000\n",
      "| epoch   3 |  2000/ 5589 batches | loss    0.000\n",
      "| epoch   3 |  3000/ 5589 batches | loss    0.000\n",
      "| epoch   3 |  4000/ 5589 batches | loss    0.001\n",
      "| epoch   3 |  5000/ 5589 batches | loss    0.001\n",
      "-----------------------------------------------------------\n",
      "| end of epoch   3 | time: 19.72s | valid accuracy    0.000 \n",
      "-----------------------------------------------------------\n",
      "| epoch   4 |  1000/ 5589 batches | loss    0.000\n",
      "| epoch   4 |  2000/ 5589 batches | loss    0.000\n",
      "| epoch   4 |  3000/ 5589 batches | loss    0.000\n",
      "| epoch   4 |  4000/ 5589 batches | loss    0.001\n",
      "| epoch   4 |  5000/ 5589 batches | loss    0.001\n",
      "-----------------------------------------------------------\n",
      "| end of epoch   4 | time: 19.67s | valid accuracy    0.000 \n",
      "-----------------------------------------------------------\n",
      "| epoch   5 |  1000/ 5589 batches | loss    0.000\n",
      "| epoch   5 |  2000/ 5589 batches | loss    0.000\n",
      "| epoch   5 |  3000/ 5589 batches | loss    0.000\n",
      "| epoch   5 |  4000/ 5589 batches | loss    0.001\n",
      "| epoch   5 |  5000/ 5589 batches | loss    0.001\n",
      "-----------------------------------------------------------\n",
      "| end of epoch   5 | time: 20.66s | valid accuracy    0.000 \n",
      "-----------------------------------------------------------\n",
      "| epoch   6 |  1000/ 5589 batches | loss    0.000\n",
      "| epoch   6 |  2000/ 5589 batches | loss    0.000\n",
      "| epoch   6 |  3000/ 5589 batches | loss    0.000\n",
      "| epoch   6 |  4000/ 5589 batches | loss    0.001\n",
      "| epoch   6 |  5000/ 5589 batches | loss    0.001\n",
      "-----------------------------------------------------------\n",
      "| end of epoch   6 | time: 20.23s | valid accuracy    0.000 \n",
      "-----------------------------------------------------------\n",
      "| epoch   7 |  1000/ 5589 batches | loss    0.000\n",
      "| epoch   7 |  2000/ 5589 batches | loss    0.000\n",
      "| epoch   7 |  3000/ 5589 batches | loss    0.000\n",
      "| epoch   7 |  4000/ 5589 batches | loss    0.001\n",
      "| epoch   7 |  5000/ 5589 batches | loss    0.001\n",
      "-----------------------------------------------------------\n",
      "| end of epoch   7 | time: 19.39s | valid accuracy    0.000 \n",
      "-----------------------------------------------------------\n",
      "| epoch   8 |  1000/ 5589 batches | loss    0.000\n",
      "| epoch   8 |  2000/ 5589 batches | loss    0.000\n",
      "| epoch   8 |  3000/ 5589 batches | loss    0.000\n",
      "| epoch   8 |  4000/ 5589 batches | loss    0.001\n",
      "| epoch   8 |  5000/ 5589 batches | loss    0.001\n",
      "-----------------------------------------------------------\n",
      "| end of epoch   8 | time: 19.58s | valid accuracy    0.000 \n",
      "-----------------------------------------------------------\n",
      "| epoch   9 |  1000/ 5589 batches | loss    0.000\n",
      "| epoch   9 |  2000/ 5589 batches | loss    0.000\n",
      "| epoch   9 |  3000/ 5589 batches | loss    0.000\n",
      "| epoch   9 |  4000/ 5589 batches | loss    0.001\n",
      "| epoch   9 |  5000/ 5589 batches | loss    0.001\n",
      "-----------------------------------------------------------\n",
      "| end of epoch   9 | time: 19.48s | valid accuracy    0.000 \n",
      "-----------------------------------------------------------\n",
      "| epoch  10 |  1000/ 5589 batches | loss    0.000\n",
      "| epoch  10 |  2000/ 5589 batches | loss    0.000\n",
      "| epoch  10 |  3000/ 5589 batches | loss    0.000\n",
      "| epoch  10 |  4000/ 5589 batches | loss    0.001\n",
      "| epoch  10 |  5000/ 5589 batches | loss    0.001\n",
      "-----------------------------------------------------------\n",
      "| end of epoch  10 | time: 19.47s | valid accuracy    0.000 \n",
      "-----------------------------------------------------------\n"
     ]
    }
   ],
   "source": [
    "vocab_size = len(vocab)\n",
    "emsize = 128\n",
    "model = Autoencoder(vocab_size, emsize)\n",
    "\n",
    "train_sampler = train_dataset.get_sampler()\n",
    "train_dataloader = DataLoader(train_dataset, batch_size=32, collate_fn=lambda x: collate_batch(batch=x, vocab=vocab, tokenizer=tokenizer), sampler=train_sampler)\n",
    "\n",
    "val_sampler = val_dataset.get_sampler()\n",
    "val_dataloader = DataLoader(val_dataset, batch_size=32, collate_fn=lambda x: collate_batch(batch=x, vocab=vocab, tokenizer=tokenizer), sampler=val_sampler)\n",
    "\n",
    "test_dataloader = DataLoader(test_dataset, batch_size=32, collate_fn=lambda x: collate_batch(batch=x, vocab=vocab, tokenizer=tokenizer))\n",
    "\n",
    "EPOCHS = 10\n",
    "criterion = torch.nn.MSELoss()\n",
    "optimizer = torch.optim.SGD(model.parameters(), lr=5.0)\n",
    "scheduler = torch.optim.lr_scheduler.StepLR(optimizer, 1.0, gamma=0.1)\n",
    "total_accu = None\n",
    "\n",
    "for epoch in range(1, EPOCHS + 1):\n",
    "    epoch_start_time = time.time()\n",
    "    model = train(model, train_dataloader, optimizer, criterion, epoch)\n",
    "    accu_val = evaluate(model, val_dataloader, criterion)\n",
    "    if total_accu is not None and total_accu > accu_val:\n",
    "      scheduler.step()\n",
    "    else:\n",
    "       total_accu = accu_val\n",
    "    print('-' * 59)\n",
    "    print('| end of epoch {:3d} | time: {:5.2f}s | '\n",
    "          'valid accuracy {:8.3f} '.format(epoch,\n",
    "                                           time.time() - epoch_start_time,\n",
    "                                           accu_val))\n",
    "    print('-' * 59)"
   ]
  },
  {
   "attachments": {},
   "cell_type": "markdown",
   "metadata": {},
   "source": [
    "### 5. Evaluation"
   ]
  },
  {
   "cell_type": "code",
   "execution_count": 14,
   "metadata": {},
   "outputs": [
    {
     "name": "stdout",
     "output_type": "stream",
     "text": [
      "Checking the results of test dataset.\n",
      "test accuracy 0.00012621\n"
     ]
    }
   ],
   "source": [
    "print('Checking the results of test dataset.')\n",
    "accu_test = evaluate(model, test_dataloader, criterion)\n",
    "print('test accuracy {:8.8f}'.format(accu_test))"
   ]
  },
  {
   "attachments": {},
   "cell_type": "markdown",
   "metadata": {},
   "source": [
    "### 6. Export"
   ]
  },
  {
   "cell_type": "code",
   "execution_count": 31,
   "metadata": {},
   "outputs": [],
   "source": [
    "#torch.save(model.state_dict(), \"./autoencoder.pt\")"
   ]
  }
 ],
 "metadata": {
  "kernelspec": {
   "display_name": "Python 3.10.7 ('.venv': venv)",
   "language": "python",
   "name": "python3"
  },
  "language_info": {
   "codemirror_mode": {
    "name": "ipython",
    "version": 3
   },
   "file_extension": ".py",
   "mimetype": "text/x-python",
   "name": "python",
   "nbconvert_exporter": "python",
   "pygments_lexer": "ipython3",
   "version": "3.10.7"
  },
  "orig_nbformat": 4,
  "vscode": {
   "interpreter": {
    "hash": "e79d364cbb5ff81f54abd98f9f83d50f90d379b8661ccc369e0ce6b6f261137f"
   }
  }
 },
 "nbformat": 4,
 "nbformat_minor": 2
}
