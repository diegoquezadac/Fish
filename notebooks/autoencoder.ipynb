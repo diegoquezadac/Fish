{
 "cells": [
  {
   "cell_type": "code",
   "execution_count": null,
   "metadata": {},
   "outputs": [],
   "source": []
  }
 ],
 "metadata": {
  "kernelspec": {
   "display_name": "Python 3.10.7 ('.venv': venv)",
   "language": "python",
   "name": "python3"
  },
  "language_info": {
   "name": "python",
   "version": "3.10.7"
  },
  "orig_nbformat": 4,
  "vscode": {
   "interpreter": {
    "hash": "e79d364cbb5ff81f54abd98f9f83d50f90d379b8661ccc369e0ce6b6f261137f"
   }
  }
 },
 "nbformat": 4,
 "nbformat_minor": 2
}
